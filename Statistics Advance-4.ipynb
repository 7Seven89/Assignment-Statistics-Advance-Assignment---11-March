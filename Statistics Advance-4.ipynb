{
 "cells": [
  {
   "cell_type": "markdown",
   "id": "8e999d72-0b3c-40c4-b923-8f1a2157de3c",
   "metadata": {},
   "source": [
    "### Q1: What is the difference between a t-test and a z-test? Provide an example scenario where you would use each type of test.\n",
    "\n",
    "**t-Test vs. z-Test**:\n",
    "- **t-Test**: Used when the sample size is small (typically \\( n < 30 \\)) and/or the population standard deviation is unknown. It is used to determine if there is a significant difference between sample means or between a sample mean and a population mean.\n",
    "- **z-Test**: Used when the sample size is large (typically \\( n \\geq 30 \\)) and the population standard deviation is known. It is used for hypothesis testing concerning the population mean or proportion.\n",
    "\n",
    "**Example Scenarios**:\n",
    "- **t-Test**: A researcher wants to test if a new teaching method improves test scores. They have a sample of 25 students and do not know the population standard deviation.\n",
    "- **z-Test**: A company wants to check if the average height of their employees is different from the national average of 170 cm. They have a large sample size of 100 employees and know the population standard deviation."
   ]
  },
  {
   "cell_type": "markdown",
   "id": "38a20fbf-9a77-4c84-bf36-b0040ec9e477",
   "metadata": {},
   "source": []
  },
  {
   "cell_type": "markdown",
   "id": "77505b94-af93-4f08-b25b-a1ffa659c6a7",
   "metadata": {},
   "source": [
    "### Q2: Differentiate between one-tailed and two-tailed tests.\n",
    "\n",
    "**One-Tailed Test**:\n",
    "- Tests if a parameter is greater than or less than a specific value. It checks for a directional difference.\n",
    "- **Example**: Testing if a new drug increases blood pressure.\n",
    "\n",
    "**Two-Tailed Test**:\n",
    "- Tests if a parameter is different from a specific value, considering both directions (greater or less). It checks for a non-directional difference.\n",
    "- **Example**: Testing if a new teaching method changes test scores compared to the existing method."
   ]
  },
  {
   "cell_type": "markdown",
   "id": "73b09bc2-ff50-4b46-905e-6a798a12aa6a",
   "metadata": {},
   "source": []
  },
  {
   "cell_type": "markdown",
   "id": "43f491fa-85bb-4a64-b5b3-42f160905141",
   "metadata": {},
   "source": [
    "### Q3: Explain the concept of Type 1 and Type 2 errors in hypothesis testing. Provide an example scenario for each type of error.\n",
    "\n",
    "**Type 1 Error**:\n",
    "- **Definition**: Rejecting a true null hypothesis (false positive).\n",
    "- **Example**: Concluding that a new drug is effective when it is actually not.\n",
    "\n",
    "**Type 2 Error**:\n",
    "- **Definition**: Failing to reject a false null hypothesis (false negative).\n",
    "- **Example**: Concluding that a new drug is not effective when it actually is."
   ]
  },
  {
   "cell_type": "markdown",
   "id": "b33be4c1-bd27-49f0-966e-b8f0ebca1b7e",
   "metadata": {},
   "source": []
  },
  {
   "cell_type": "markdown",
   "id": "c91a5601-8bf4-4009-91f9-c7c8cf433146",
   "metadata": {},
   "source": [
    "### Q4: Explain Bayes's theorem with an example.\n",
    "\n",
    "**Bayes's Theorem**:\n",
    "- **Definition**: A mathematical formula that describes how to update the probability of a hypothesis based on new evidence.\n",
    "- **Formula**:\n",
    "\\[\n",
    "P(A|B) = \\frac{P(B|A) \\cdot P(A)}{P(B)}\n",
    "\\]\n",
    "- **Example**: If 1% of people have a certain disease (A), and a test for the disease is 99% accurate (both sensitivity and specificity), what is the probability that a person has the disease given a positive test result?"
   ]
  },
  {
   "cell_type": "markdown",
   "id": "083be95a-413a-4cd8-a08b-2ce32aeccc3f",
   "metadata": {},
   "source": []
  },
  {
   "cell_type": "markdown",
   "id": "0536ac4c-831b-40b0-997f-ba1f54401571",
   "metadata": {},
   "source": [
    "### Q5: What is a confidence interval? How to calculate the confidence interval, explain with an example.\n",
    "\n",
    "**Confidence Interval**:\n",
    "- **Definition**: A range of values that is used to estimate the true parameter value with a certain level of confidence.\n",
    "- **Calculation**:\n",
    "\\[\n",
    "\\text{CI} = \\bar{X} \\pm Z_{\\alpha/2} \\cdot \\frac{\\sigma}{\\sqrt{n}}\n",
    "\\]\n",
    "- **Example**: For a sample mean of 50 with a standard deviation of 5 and a sample size of 30, the 95% confidence interval is:\n",
    "\\[\n",
    "\\text{CI} = 50 \\pm 1.96 \\cdot \\frac{5}{\\sqrt{30}} = [48.2, 51.8]\n",
    "\\]"
   ]
  },
  {
   "cell_type": "markdown",
   "id": "401106ca-5a23-40a0-9824-a5c1c218259c",
   "metadata": {},
   "source": []
  },
  {
   "cell_type": "markdown",
   "id": "cda7e1fb-bc73-4d63-a745-695387ce9cc6",
   "metadata": {},
   "source": [
    "### Q6: Use Bayes' Theorem to calculate the probability of an event occurring given prior knowledge of the event's probability and new evidence. Provide a sample problem and solution.\n",
    "\n",
    "**Sample Problem**:\n",
    "- **Prior Probability** \\( P(A) = 0.01 \\)\n",
    "- **Probability of Evidence given Event** \\( P(B|A) = 0.9 \\)\n",
    "- **Probability of Evidence** \\( P(B) = 0.2 \\)\n",
    "\n",
    "**Solution**:\n",
    "\\[\n",
    "P(A|B) = \\frac{P(B|A) \\cdot P(A)}{P(B)} = \\frac{0.9 \\cdot 0.01}{0.2} = 0.045\n",
    "\\]"
   ]
  },
  {
   "cell_type": "markdown",
   "id": "08699c00-4232-4afd-847e-99cf52b36be7",
   "metadata": {},
   "source": []
  },
  {
   "cell_type": "markdown",
   "id": "a4450fe3-ca32-41df-a2ce-f4800a3128a8",
   "metadata": {},
   "source": [
    "### Q7: Calculate the 95% confidence interval for a sample of data with a mean of 50 and a standard deviation of 5. Interpret the results.\n",
    "\n",
    "**Confidence Interval Calculation**:\n",
    "1. **Sample Mean (\\(\\bar{X}\\))**: 50\n",
    "2. **Sample Standard Deviation (\\(s\\))**: 5\n",
    "3. **Sample Size (\\(n\\))**: Not specified, assume large enough for z-test.\n",
    "4. **Critical Value (\\(Z_{\\alpha/2}\\))**: For 95% confidence, \\( Z_{\\alpha/2} = 1.96 \\).\n",
    "\n",
    "**Confidence Interval**:\n",
    "\\[\n",
    "\\text{CI} = \\bar{X} \\pm Z_{\\alpha/2} \\cdot \\frac{s}{\\sqrt{n}} = 50 \\pm 1.96 \\cdot \\frac{5}{\\sqrt{n}}\n",
    "\\]\n",
    "(Without sample size, assume \\( n \\) is large enough to use z-test)"
   ]
  },
  {
   "cell_type": "markdown",
   "id": "ea2a7caa-bfbe-4faa-9bfb-dbf5de5feff8",
   "metadata": {},
   "source": []
  },
  {
   "cell_type": "markdown",
   "id": "cadeb04d-a946-4725-8284-f29b7e829dcf",
   "metadata": {},
   "source": [
    "### Q8: What is the margin of error in a confidence interval? How does sample size affect the margin of error? Provide an example of a scenario where a larger sample size would result in a smaller margin of error.\n",
    "\n",
    "**Margin of Error**:\n",
    "- **Definition**: The range within which the true population parameter is expected to fall with a certain level of confidence.\n",
    "- **Calculation**:\n",
    "\\[\n",
    "\\text{Margin of Error} = Z_{\\alpha/2} \\cdot \\frac{\\sigma}{\\sqrt{n}}\n",
    "\\]\n",
    "\n",
    "**Effect of Sample Size**:\n",
    "- As the sample size increases, the margin of error decreases because \\(\\frac{1}{\\sqrt{n}}\\) becomes smaller.\n",
    "\n",
    "**Example**:\n",
    "- **Small Sample**: A sample of 30 might have a margin of error of ±5.\n",
    "- **Large Sample**: A sample of 200 might reduce the margin of error to ±2."
   ]
  },
  {
   "cell_type": "markdown",
   "id": "53714fb7-6752-41f4-8a56-c4b240b1d531",
   "metadata": {},
   "source": []
  },
  {
   "cell_type": "markdown",
   "id": "3f7338d7-72f2-4847-9977-8f7020566dc3",
   "metadata": {},
   "source": [
    "### Q9: Calculate the z-score for a data point with a value of 75, a population mean of 70, and a population standard deviation of 5. Interpret the results.\n",
    "\n",
    "**z-Score Calculation**:\n",
    "\\[\n",
    "z = \\frac{X - \\mu}{\\sigma} = \\frac{75 - 70}{5} = 1\n",
    "\\]\n",
    "\n",
    "**Interpretation**:\n",
    "- A z-score of 1 indicates that the data point is 1 standard deviation above the mean."
   ]
  },
  {
   "cell_type": "markdown",
   "id": "41e1891e-b223-4940-98d5-ddd37755d13f",
   "metadata": {},
   "source": []
  },
  {
   "cell_type": "markdown",
   "id": "c6d58862-fe69-4b32-ae02-9881d694c991",
   "metadata": {},
   "source": [
    "### Q10: In a study of the effectiveness of a new weight loss drug, a sample of 50 participants lost an average of 6 pounds with a standard deviation of 2.5 pounds. Conduct a hypothesis test to determine if the drug is significantly effective at a 95% confidence level using a t-test.\n",
    "\n",
    "**Hypothesis Testing**:\n",
    "- **Null Hypothesis (\\(H_0\\))**: \\(\\mu = 0\\) (no weight loss)\n",
    "- **Alternative Hypothesis (\\(H_1\\))**: \\(\\mu \\neq 0\\) (significant weight loss)\n",
    "\n",
    "1. **Sample Mean (\\(\\bar{X}\\))**: 6 pounds\n",
    "2. **Sample Standard Deviation (\\(s\\))**: 2.5 pounds\n",
    "3. **Sample Size (\\(n\\))**: 50\n",
    "4. **Degrees of Freedom (\\(df\\))**: \\(n - 1 = 49\\)\n",
    "5. **Critical Value (\\(t_{\\alpha/2}\\))**: For 95% confidence and 49 degrees of freedom, \\( t_{\\alpha/2} \\approx 2.0096 \\).\n",
    "\n",
    "**t-Statistic Calculation**:\n",
    "\\[\n",
    "t = \\frac{\\bar{X} - \\mu}{\\frac{s}{\\sqrt{n}}} = \\frac{6 - 0}{\\frac{2.5}{\\sqrt{50}}} = 6.00\n",
    "\\]\n",
    "\n",
    "**Decision**:\n",
    "- Since \\( |t| = 6.00 \\) is greater than 2.0096, we reject the null hypothesis.\n",
    "\n",
    "**Conclusion**: The drug is significantly effective at the 95% confidence level."
   ]
  },
  {
   "cell_type": "markdown",
   "id": "ae64dcca-4aef-4c49-9928-46cda556c5c2",
   "metadata": {},
   "source": []
  },
  {
   "cell_type": "markdown",
   "id": "cb120f8b-d010-4d8d-9c86-961b7735e13e",
   "metadata": {},
   "source": [
    "### Q11: In a survey of 500 people, 65% reported being satisfied with their current job. Calculate the 95% confidence interval for the true proportion of people who are satisfied with their job.\n",
    "\n",
    "**Confidence Interval Calculation**:\n",
    "1. **Sample Proportion (\\(\\hat{p}\\))**: 0.65\n",
    "2. **Sample Size (\\(n\\))**: 500\n",
    "3. **Critical Value (\\(Z_{\\alpha/2}\\))**: For 95% confidence, \\( Z_{\\alpha/2} = 1.96 \\).\n",
    "\n",
    "**Confidence Interval**:\n",
    "\\[\n",
    "\\text{CI} = \\hat{p} \\pm Z_{\\alpha/2} \\cdot \\sqrt{\\frac{\\hat{p}(1 - \\hat{p})}{n}}\n",
    "\\]\n",
    "\\[\n",
    "\\text{CI} = 0.65 \\pm 1.96 \\cdot \\sqrt{\\frac{0.65 \\cdot 0.35}{500}}\n",
    "\\]\n",
    "\\[\n",
    "\\text{CI} = 0.65 \\pm 0.057\n",
    "\\]\n",
    "\n",
    "**95% Confidence Interval**: \\([0.593, 0.707]\\)"
   ]
  },
  {
   "cell_type": "markdown",
   "id": "7e338841-26f9-4e43-b7c0-64736a2fbb56",
   "metadata": {},
   "source": []
  },
  {
   "cell_type": "markdown",
   "id": "f93b8b19-3232-4e46-81c6-cc264ae4dc40",
   "metadata": {},
   "source": [
    "### Q12: A researcher is testing the effectiveness of two different teaching methods on student performance. Sample A has a mean score of 85 with a standard deviation of 6, while sample B has a mean score of 82 with a standard deviation of 5. Conduct a hypothesis test to determine if the two teaching methods have a significant difference in student performance using a t-test with a significance level of 0.01.\n",
    "\n",
    "**Hypothesis Testing**:\n",
    "- **Null Hypothesis (\\(H_0\\))**: \\(\\mu_A = \\mu_B\\) (no difference in means)\n",
    "- **Alternative Hypothesis (\\(H_1\\))**: \\(\\mu_A \\neq \\mu_B\\) (significant difference in means)\n",
    "\n",
    "1. **Sample Means (\\(\\bar{X}_A\\), \\(\\bar{X}_B\\))**: 85, 82\n",
    "2. **Sample Standard Deviations (\\(s_A\\), \\(s_B\\))**: 6, 5\n",
    "3. **Sample Sizes (\\(n_A\\), \\(n_B\\))**: Not specified, assume equal sizes.\n",
    "4. **Significance Level (\\(\\alpha\\))**: 0.01\n",
    "\n",
    "**t-Statistic Calculation** (assuming equal sample sizes):\n",
    "\\[\n",
    "t = \\frac{\\bar{X}_A - \\bar{X}_B}{\\sqrt{\\frac{s_A^2}{n_A} + \\frac{s_B^2}{n_B}}}\n",
    "\\]\n",
    "\n",
    "**Decision**:\n",
    "- Compare the calculated t-statistic with the critical value from t-distribution table for 0.01 significance level."
   ]
  },
  {
   "cell_type": "markdown",
   "id": "37e09d95-e78f-45cd-a82f-84ac96d7400c",
   "metadata": {},
   "source": []
  },
  {
   "cell_type": "markdown",
   "id": "fbfcd590-7c5e-4ebf-a27a-a0fead30d5da",
   "metadata": {},
   "source": [
    "### Q13: A population has a mean of 60 and a standard deviation of 8. A sample of 50 observations has a mean of 65. Calculate the 90% confidence interval for the true population mean.\n",
    "\n",
    "**Confidence Interval Calculation**:\n",
    "1. **Sample Mean (\\(\\bar{X}\\))**: 65\n",
    "2. **Population Standard Deviation (\\(\\sigma\\))**: 8\n",
    "3. **Sample Size (\\(n\\))**: 50\n",
    "4. **Critical Value (\\(Z_{\\alpha/2}\\))**: For 90% confidence, \\( Z_{\\alpha/2} = 1.645 \\).\n",
    "\n",
    "**Confidence Interval**:\n",
    "\\[\n",
    "\\text{CI} = \\bar{X} \\pm Z_{\\alpha/2} \\cdot \\frac{\\sigma}{\\sqrt{n}}\n",
    "\\]\n",
    "\\[\n",
    "\\text{CI} = 65 \\pm 1.645 \\cdot \\frac{8}{\\sqrt{50}}\n",
    "\\]\n",
    "\\[\n",
    "\\text{CI} = 65 \\pm 1.85\n",
    "\\]\n",
    "\n",
    "**90% Confidence Interval**: \\([63.15, 66.85]\\)"
   ]
  },
  {
   "cell_type": "markdown",
   "id": "c450d813-b0b7-4f3f-90a1-130696a76dcb",
   "metadata": {},
   "source": []
  },
  {
   "cell_type": "markdown",
   "id": "3b45f155-1f02-458f-94d1-e60d89f2e320",
   "metadata": {},
   "source": [
    "### Q14: In a study of the effects of caffeine on reaction time, a sample of 30 participants had an average reaction time of 0.25 seconds with a standard deviation of 0.05 seconds. Conduct a hypothesis test to determine if the caffeine has a significant effect on reaction time at a 90% confidence level using a t-test.\n",
    "\n",
    "**Hypothesis Testing**:\n",
    "- **Null Hypothesis (\\(H_0\\))**: \\(\\mu = 0.30\\) (no effect)\n",
    "- **Alternative Hypothesis (\\(H_1\\))**: \\(\\mu \\neq 0.30\\) (significant effect)\n",
    "\n",
    "1. **Sample Mean (\\(\\bar{X}\\))**: 0.25 seconds\n",
    "2. **Sample Standard Deviation (\\(s\\))**: 0.05 seconds\n",
    "3. **Sample Size (\\(n\\))**: 30\n",
    "4. **Degrees of Freedom (\\(df\\))**: 29\n",
    "5. **Critical Value (\\(t_{\\alpha/2}\\))**: For 90% confidence and 29 degrees of freedom, \\( t_{\\alpha/2} \\approx 1.699 \\).\n",
    "\n",
    "**t-Statistic Calculation**:\n",
    "\\[\n",
    "t = \\frac{\\bar{X} - \\mu}{\\frac{s}{\\sqrt{n}}} = \\frac{0.25 - 0.30}{\\frac{0.05}{\\sqrt{30}}} = -5.48\n",
    "\\]\n",
    "\n",
    "**Decision**:\n",
    "- Since \\( |t| = 5.48 \\) is greater than 1.699, we reject the null hypothesis.\n",
    "\n",
    "**Conclusion**: Caffeine has a significant effect on reaction time at the 90% confidence level."
   ]
  },
  {
   "cell_type": "markdown",
   "id": "75826ded-81b6-498e-b495-bcafb3701479",
   "metadata": {},
   "source": []
  }
 ],
 "metadata": {
  "kernelspec": {
   "display_name": "Python 3 (ipykernel)",
   "language": "python",
   "name": "python3"
  },
  "language_info": {
   "codemirror_mode": {
    "name": "ipython",
    "version": 3
   },
   "file_extension": ".py",
   "mimetype": "text/x-python",
   "name": "python",
   "nbconvert_exporter": "python",
   "pygments_lexer": "ipython3",
   "version": "3.12.5"
  }
 },
 "nbformat": 4,
 "nbformat_minor": 5
}
